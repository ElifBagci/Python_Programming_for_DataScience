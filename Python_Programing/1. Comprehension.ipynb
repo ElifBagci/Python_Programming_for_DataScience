{
 "cells": [
  {
   "cell_type": "markdown",
   "metadata": {},
   "source": [
    "# Comprehension"
   ]
  },
  {
   "attachments": {},
   "cell_type": "markdown",
   "metadata": {},
   "source": [
    "1. List Comprehension\n",
    "2. Dictionary Comprehansion"
   ]
  },
  {
   "attachments": {},
   "cell_type": "markdown",
   "metadata": {},
   "source": [
    "### 1. List Comprehension"
   ]
  },
  {
   "cell_type": "code",
   "execution_count": 1,
   "metadata": {},
   "outputs": [],
   "source": [
    "# Bir şirkette alınan maaşları tanımlayalım;\n",
    "\n",
    "salaries = [1000, 2000, 3000, 4000, 5000]\n"
   ]
  },
  {
   "cell_type": "code",
   "execution_count": 3,
   "metadata": {},
   "outputs": [
    {
     "name": "stdout",
     "output_type": "stream",
     "text": [
      "1200.0\n",
      "2400.0\n",
      "3600.0\n",
      "4800.0\n",
      "6000.0\n"
     ]
    }
   ],
   "source": [
    "# Tanımladığımız bu maaşların üzerinden %20 oranında zam yapmak için bir fonksiyon tanımlayalım;\n",
    "\n",
    "def new_salary(x):\n",
    "    return x * 20 / 100 + x\n",
    "# Tanımlamış olduğumuz bu fonksiyonu döngü ile döndürelim; \n",
    "for salary in salaries:\n",
    "    print(new_salary(salary))\n"
   ]
  },
  {
   "cell_type": "code",
   "execution_count": 4,
   "metadata": {},
   "outputs": [],
   "source": [
    "\n",
    "# Şimid bu yeni maaşları yeni bir listeye atayalım. Bu işlemi yaparken .append() metodu kullanıyoruz;\n",
    "null_list = []\n",
    "\n",
    "for salary in salaries:\n",
    "    null_list.append(new_salary(salary))"
   ]
  },
  {
   "cell_type": "code",
   "execution_count": 5,
   "metadata": {},
   "outputs": [
    {
     "name": "stdout",
     "output_type": "stream",
     "text": [
      "[2400.0, 4800.0, 7200.0, 4800.0, 6000.0]\n"
     ]
    }
   ],
   "source": [
    "# Eğer maaşı 3000'den büyük ise boş listeye aktarmasını, değil ise iki ile çarpıp aktarmasını istiyoruz; \n",
    "null_list = []\n",
    "\n",
    "for salary in salaries:\n",
    "    if salary > 3000:\n",
    "        null_list.append(new_salary(salary))\n",
    "    else:\n",
    "        null_list.append(new_salary(salary * 2))\n",
    "\n",
    "print(null_list)"
   ]
  },
  {
   "cell_type": "code",
   "execution_count": 6,
   "metadata": {},
   "outputs": [
    {
     "data": {
      "text/plain": [
       "[2000, 4000, 6000, 8000, 10000]"
      ]
     },
     "execution_count": 6,
     "metadata": {},
     "output_type": "execute_result"
    }
   ],
   "source": [
    "# Bütün bu işlemleri daha kısa bir şekilde \"comprehension\" ile yapabiliriz; \n",
    "# Örneğin maaşlar listesindeki her bir maaşı iki ile çarpalım;\n",
    "[salary* 2 for salary in salaries]\n",
    "\n",
    "# İlk önce döngü yazar gibi başlıyoruz sonra \"salary\" üzerinde yapacağımız işlemi bu ifadenin SOLUNA yazıyoruz."
   ]
  },
  {
   "cell_type": "code",
   "execution_count": 7,
   "metadata": {},
   "outputs": [
    {
     "data": {
      "text/plain": [
       "[2000, 4000]"
      ]
     },
     "execution_count": 7,
     "metadata": {},
     "output_type": "execute_result"
    }
   ],
   "source": [
    "# Maaşı 3000'den küçük olanların maaaşını 2 ile çarpmak istersek;\n",
    "\n",
    "[salary*2 for salary in salaries if salary<3000]\n",
    "\n",
    "# Comprehensionda sadece if kullanmak istiyorsak bunu dögünün \"SAĞ\" tarafına yazmamız gerekmektedir. "
   ]
  },
  {
   "cell_type": "code",
   "execution_count": 9,
   "metadata": {},
   "outputs": [
    {
     "data": {
      "text/plain": [
       "[2000, 4000, 0, 0, 0]"
      ]
     },
     "execution_count": 9,
     "metadata": {},
     "output_type": "execute_result"
    }
   ],
   "source": [
    "# Eğer maaşı 3000'den küçük ise 2 ile, değil ise 0 ile çarpalım;\n",
    "\n",
    "[salary*2 if salary<3000 else salary*0 for salary in salaries]\n",
    "\n",
    "# Comprehensionda if ve else aynı anda yer alıyorsa bunu döngünün \"SOL\" tarafına yazmamız gerekmektedir."
   ]
  },
  {
   "cell_type": "code",
   "execution_count": 10,
   "metadata": {},
   "outputs": [
    {
     "data": {
      "text/plain": [
       "[2400.0, 4800.0, 0, 0, 0]"
      ]
     },
     "execution_count": 10,
     "metadata": {},
     "output_type": "execute_result"
    }
   ],
   "source": [
    "# List comprehension içerisinde fonksiyon kullanalım;\n",
    "\n",
    "[new_salary(salary*2) if salary<3000 else salary*0 for salary in salaries]"
   ]
  },
  {
   "cell_type": "code",
   "execution_count": 11,
   "metadata": {},
   "outputs": [
    {
     "data": {
      "text/plain": [
       "[2400.0, 4800.0, 720.0, 960.0, 1200.0]"
      ]
     },
     "execution_count": 11,
     "metadata": {},
     "output_type": "execute_result"
    }
   ],
   "source": [
    "[new_salary(salary*2) if salary<3000 else new_salary(salary*0.2) for salary in salaries]"
   ]
  },
  {
   "cell_type": "code",
   "execution_count": 12,
   "metadata": {},
   "outputs": [
    {
     "data": {
      "text/plain": [
       "['john', 'MARK', 'venessa', 'MARIAM']"
      ]
     },
     "execution_count": 12,
     "metadata": {},
     "output_type": "execute_result"
    }
   ],
   "source": [
    "# Şimdi iki adet listeyi ele alalım. Students listesindeki öğrencileri büyük harfle, students_no listesindeki öğrencileri küçük harfle yazalım;\n",
    "\n",
    "students = [\"John\", \"Mark\", \"Venessa\", \"Mariam\"]\n",
    "students_no = [\"John\", \"Venessa\"]\n",
    "\n",
    "[student.lower() if student in students_no else student.upper() for student in students]"
   ]
  },
  {
   "cell_type": "code",
   "execution_count": 13,
   "metadata": {},
   "outputs": [
    {
     "data": {
      "text/plain": [
       "['john', 'MARK', 'venessa', 'MARIAM']"
      ]
     },
     "execution_count": 13,
     "metadata": {},
     "output_type": "execute_result"
    }
   ],
   "source": [
    "# Bu işlemi if not kullanarak yapalım;\n",
    "\n",
    "[student.upper() if not student in students_no else student.lower() for student in students]"
   ]
  },
  {
   "attachments": {},
   "cell_type": "markdown",
   "metadata": {},
   "source": [
    "### 2. Dict Comprehension"
   ]
  },
  {
   "cell_type": "code",
   "execution_count": 15,
   "metadata": {},
   "outputs": [
    {
     "data": {
      "text/plain": [
       "{'a': 1, 'b': 4, 'c': 9, 'd': 16}"
      ]
     },
     "execution_count": 15,
     "metadata": {},
     "output_type": "execute_result"
    }
   ],
   "source": [
    "# Elimizdeki dictionary'nin her bir value değerinin karesini alalım;\n",
    "dictionary = {'a': 1,\n",
    "              'b': 2,\n",
    "              'c': 3,\n",
    "              'd': 4}\n",
    "\n",
    "\n",
    "\n",
    "{k: v**2 for k,v in dictionary.items()}\n",
    "\n",
    "# DİKKAT! dict comprehension da {} kullanarak yazmaktayız ve dictionaryden sonra .items() şeklinde yazılmaktadır. \n"
   ]
  },
  {
   "cell_type": "code",
   "execution_count": 16,
   "metadata": {},
   "outputs": [
    {
     "data": {
      "text/plain": [
       "{'A': 1, 'B': 2, 'C': 3, 'D': 4}"
      ]
     },
     "execution_count": 16,
     "metadata": {},
     "output_type": "execute_result"
    }
   ],
   "source": [
    "# Şimdi elimizdeki dictionarynin key değerlerini büyük harfle yazalım;\n",
    "\n",
    "{k.upper(): v for k,v in dictionary.items()}"
   ]
  }
 ],
 "metadata": {
  "kernelspec": {
   "display_name": "Python 3",
   "language": "python",
   "name": "python3"
  },
  "language_info": {
   "codemirror_mode": {
    "name": "ipython",
    "version": 3
   },
   "file_extension": ".py",
   "mimetype": "text/x-python",
   "name": "python",
   "nbconvert_exporter": "python",
   "pygments_lexer": "ipython3",
   "version": "3.11.1"
  },
  "orig_nbformat": 4,
  "vscode": {
   "interpreter": {
    "hash": "aee8b7b246df8f9039afb4144a1f6fd8d2ca17a180786b69acc140d282b71a49"
   }
  }
 },
 "nbformat": 4,
 "nbformat_minor": 2
}
